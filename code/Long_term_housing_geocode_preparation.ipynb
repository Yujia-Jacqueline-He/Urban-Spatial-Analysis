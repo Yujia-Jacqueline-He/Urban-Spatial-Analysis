{
 "cells": [
  {
   "cell_type": "code",
   "execution_count": 70,
   "metadata": {
    "collapsed": true
   },
   "outputs": [],
   "source": [
    "import pandas as pd"
   ]
  },
  {
   "cell_type": "code",
   "execution_count": 71,
   "metadata": {},
   "outputs": [
    {
     "name": "stderr",
     "output_type": "stream",
     "text": [
      "F:\\Anaconda3\\lib\\site-packages\\IPython\\core\\interactiveshell.py:3058: DtypeWarning: Columns (16,48,51) have mixed types. Specify dtype option on import or set low_memory=False.\n",
      "  interactivity=interactivity, compiler=compiler, result=result)\n"
     ]
    }
   ],
   "source": [
    "Data = pd.read_csv(\"Parcels_2016_Data_Full.csv\")"
   ]
  },
  {
   "cell_type": "code",
   "execution_count": 3,
   "metadata": {},
   "outputs": [
    {
     "data": {
      "text/plain": [
       "0               104 A 104 PUTNAM ST, 02128\n",
       "1                  197 LEXINGTON ST, 02128\n",
       "2                  199 LEXINGTON ST, 02128\n",
       "3                  201 LEXINGTON ST, 02128\n",
       "4                  203 LEXINGTON ST, 02128\n",
       "                        ...               \n",
       "166243                   KNOWLES ST, 02135\n",
       "166244                      LAKE ST, 02135\n",
       "166245                    4 LAKE ST, 02135\n",
       "166246    2193 2201 COMMONWEALTH AV, 02135\n",
       "166247         2203 COMMONWEALTH AV, 02135\n",
       "Name: FULL_ADDRESS, Length: 166248, dtype: object"
      ]
     },
     "execution_count": 3,
     "metadata": {},
     "output_type": "execute_result"
    }
   ],
   "source": [
    "Data.FULL_ADDRESS"
   ]
  },
  {
   "cell_type": "code",
   "execution_count": 16,
   "metadata": {},
   "outputs": [
    {
     "data": {
      "text/plain": [
       "'104 A 104 PUTNAM ST'"
      ]
     },
     "execution_count": 16,
     "metadata": {},
     "output_type": "execute_result"
    }
   ],
   "source": [
    "Data.FULL_ADDRESS[0][:-7]"
   ]
  },
  {
   "cell_type": "code",
   "execution_count": 4,
   "metadata": {},
   "outputs": [
    {
     "data": {
      "text/plain": [
       "0         2128.0\n",
       "1         2128.0\n",
       "2         2128.0\n",
       "3         2128.0\n",
       "4         2128.0\n",
       "           ...  \n",
       "166243    2135.0\n",
       "166244    2135.0\n",
       "166245    2135.0\n",
       "166246    2135.0\n",
       "166247    2135.0\n",
       "Name: ZIPCODE, Length: 166248, dtype: float64"
      ]
     },
     "execution_count": 4,
     "metadata": {},
     "output_type": "execute_result"
    }
   ],
   "source": [
    "Data.ZIPCODE"
   ]
  },
  {
   "cell_type": "code",
   "execution_count": 68,
   "metadata": {},
   "outputs": [
    {
     "data": {
      "text/html": [
       "<div>\n",
       "<style scoped>\n",
       "    .dataframe tbody tr th:only-of-type {\n",
       "        vertical-align: middle;\n",
       "    }\n",
       "\n",
       "    .dataframe tbody tr th {\n",
       "        vertical-align: top;\n",
       "    }\n",
       "\n",
       "    .dataframe thead th {\n",
       "        text-align: right;\n",
       "    }\n",
       "</style>\n",
       "<table border=\"1\" class=\"dataframe\">\n",
       "  <thead>\n",
       "    <tr style=\"text-align: right;\">\n",
       "      <th></th>\n",
       "      <th>address</th>\n",
       "      <th>city</th>\n",
       "      <th>state</th>\n",
       "      <th>zip_code</th>\n",
       "    </tr>\n",
       "  </thead>\n",
       "  <tbody>\n",
       "    <tr>\n",
       "      <th>159984</th>\n",
       "      <td>15 17 ALCOTT ST, 02134</td>\n",
       "      <td>Boston</td>\n",
       "      <td>MA</td>\n",
       "      <td>2134.0</td>\n",
       "    </tr>\n",
       "    <tr>\n",
       "      <th>159985</th>\n",
       "      <td>85 FRANKLIN ST, 02134</td>\n",
       "      <td>Boston</td>\n",
       "      <td>MA</td>\n",
       "      <td>2134.0</td>\n",
       "    </tr>\n",
       "    <tr>\n",
       "      <th>159986</th>\n",
       "      <td>87 FRANKLIN ST, 02134</td>\n",
       "      <td>Boston</td>\n",
       "      <td>MA</td>\n",
       "      <td>2134.0</td>\n",
       "    </tr>\n",
       "    <tr>\n",
       "      <th>159987</th>\n",
       "      <td>89 FRANKLIN ST, 02134</td>\n",
       "      <td>Boston</td>\n",
       "      <td>MA</td>\n",
       "      <td>2134.0</td>\n",
       "    </tr>\n",
       "    <tr>\n",
       "      <th>159988</th>\n",
       "      <td>91 FRANKLIN ST, 02134</td>\n",
       "      <td>Boston</td>\n",
       "      <td>MA</td>\n",
       "      <td>2134.0</td>\n",
       "    </tr>\n",
       "    <tr>\n",
       "      <th>...</th>\n",
       "      <td>...</td>\n",
       "      <td>...</td>\n",
       "      <td>...</td>\n",
       "      <td>...</td>\n",
       "    </tr>\n",
       "    <tr>\n",
       "      <th>166243</th>\n",
       "      <td>KNOWLES ST, 02135</td>\n",
       "      <td>Boston</td>\n",
       "      <td>MA</td>\n",
       "      <td>2135.0</td>\n",
       "    </tr>\n",
       "    <tr>\n",
       "      <th>166244</th>\n",
       "      <td>LAKE ST, 02135</td>\n",
       "      <td>Boston</td>\n",
       "      <td>MA</td>\n",
       "      <td>2135.0</td>\n",
       "    </tr>\n",
       "    <tr>\n",
       "      <th>166245</th>\n",
       "      <td>4 LAKE ST, 02135</td>\n",
       "      <td>Boston</td>\n",
       "      <td>MA</td>\n",
       "      <td>2135.0</td>\n",
       "    </tr>\n",
       "    <tr>\n",
       "      <th>166246</th>\n",
       "      <td>2193 2201 COMMONWEALTH AV, 02135</td>\n",
       "      <td>Boston</td>\n",
       "      <td>MA</td>\n",
       "      <td>2135.0</td>\n",
       "    </tr>\n",
       "    <tr>\n",
       "      <th>166247</th>\n",
       "      <td>2203 COMMONWEALTH AV, 02135</td>\n",
       "      <td>Boston</td>\n",
       "      <td>MA</td>\n",
       "      <td>2135.0</td>\n",
       "    </tr>\n",
       "  </tbody>\n",
       "</table>\n",
       "<p>6264 rows × 4 columns</p>\n",
       "</div>"
      ],
      "text/plain": [
       "                                 address    city state  zip_code\n",
       "159984            15 17 ALCOTT ST, 02134  Boston    MA    2134.0\n",
       "159985             85 FRANKLIN ST, 02134  Boston    MA    2134.0\n",
       "159986             87 FRANKLIN ST, 02134  Boston    MA    2134.0\n",
       "159987             89 FRANKLIN ST, 02134  Boston    MA    2134.0\n",
       "159988             91 FRANKLIN ST, 02134  Boston    MA    2134.0\n",
       "...                                  ...     ...   ...       ...\n",
       "166243                 KNOWLES ST, 02135  Boston    MA    2135.0\n",
       "166244                    LAKE ST, 02135  Boston    MA    2135.0\n",
       "166245                  4 LAKE ST, 02135  Boston    MA    2135.0\n",
       "166246  2193 2201 COMMONWEALTH AV, 02135  Boston    MA    2135.0\n",
       "166247       2203 COMMONWEALTH AV, 02135  Boston    MA    2135.0\n",
       "\n",
       "[6264 rows x 4 columns]"
      ]
     },
     "execution_count": 68,
     "metadata": {},
     "output_type": "execute_result"
    }
   ],
   "source": [
    "start = 16\n",
    "Address = pd.DataFrame()\n",
    "Address[\"address\"] = Data.FULL_ADDRESS[start*9999:]\n",
    "for i in range(len(Data.FULL_ADDRESS[start*9999:])):\n",
    "    Address[\"address\"][i] = Data.FULL_ADDRESS[start*9999 + i][:-7]\n",
    "    \n",
    "Address[\"city\"] = \"Boston\"\n",
    "Address[\"state\"] = \"MA\"\n",
    "Address[\"zip_code\"] = Data.ZIPCODE[start*9999:].values\n",
    "Address"
   ]
  },
  {
   "cell_type": "code",
   "execution_count": 69,
   "metadata": {
    "collapsed": true
   },
   "outputs": [],
   "source": [
    "Address.to_csv(\"Address_\"+str(start)+\".csv\", header = False)"
   ]
  },
  {
   "cell_type": "code",
   "execution_count": null,
   "metadata": {
    "collapsed": true
   },
   "outputs": [],
   "source": []
  }
 ],
 "metadata": {
  "kernelspec": {
   "display_name": "Python 3",
   "language": "python",
   "name": "python3"
  },
  "language_info": {
   "codemirror_mode": {
    "name": "ipython",
    "version": 3
   },
   "file_extension": ".py",
   "mimetype": "text/x-python",
   "name": "python",
   "nbconvert_exporter": "python",
   "pygments_lexer": "ipython3",
   "version": "3.6.1"
  }
 },
 "nbformat": 4,
 "nbformat_minor": 2
}
